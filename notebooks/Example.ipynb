{
 "cells": [
  {
   "cell_type": "code",
   "execution_count": 1,
   "metadata": {},
   "outputs": [
    {
     "data": {
      "application/vnd.jupyter.widget-view+json": {
       "model_id": "571f0a602c5c48d88615f8cac021c559",
       "version_major": 2,
       "version_minor": 0
      },
      "text/plain": [
       "Application(children=(MenuBar(children=(Text(value='/Users/nearl/Downloads/manga-7495-12704-LOGCUBE.fits', des…"
      ]
     },
     "metadata": {},
     "output_type": "display_data"
    },
    {
     "name": "stderr",
     "output_type": "stream",
     "text": [
      "WARNING: PossiblySlowWarning: This function (<function BaseSpectralCube.mean at 0x11da639d8>) requires loading the entire cube into memory and may therefore be slow. [spectral_cube.utils]\n"
     ]
    }
   ],
   "source": [
    "from cubelab_notebook.app import Application\n",
    "from IPython.display import display\n",
    "\n",
    "app = Application()\n",
    "display(app) # 'tests/data/adv.fits'"
   ]
  },
  {
   "cell_type": "code",
   "execution_count": null,
   "metadata": {},
   "outputs": [],
   "source": []
  }
 ],
 "metadata": {
  "kernelspec": {
   "display_name": "Python 3",
   "language": "python",
   "name": "python3"
  },
  "language_info": {
   "codemirror_mode": {
    "name": "ipython",
    "version": 3
   },
   "file_extension": ".py",
   "mimetype": "text/x-python",
   "name": "python",
   "nbconvert_exporter": "python",
   "pygments_lexer": "ipython3",
   "version": "3.7.3"
  }
 },
 "nbformat": 4,
 "nbformat_minor": 2
}
