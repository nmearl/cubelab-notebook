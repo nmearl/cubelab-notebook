{
 "cells": [
  {
   "cell_type": "code",
   "execution_count": 1,
   "metadata": {},
   "outputs": [],
   "source": [
    "from cubelab_notebook.app import Application\n",
    "from IPython.display import display"
   ]
  },
  {
   "cell_type": "code",
   "execution_count": 2,
   "metadata": {},
   "outputs": [
    {
     "data": {
      "application/vnd.jupyter.widget-view+json": {
       "model_id": "53a87131b07f4db28568f73964679321",
       "version_major": 2,
       "version_minor": 0
      },
      "text/plain": [
       "Application(children=(Button(description='Menu Bar', layout=Layout(grid_area='menu_bar', width='auto'), style=…"
      ]
     },
     "metadata": {},
     "output_type": "display_data"
    }
   ],
   "source": [
    "app = Application()\n",
    "display(app)"
   ]
  },
  {
   "cell_type": "code",
   "execution_count": 6,
   "metadata": {},
   "outputs": [],
   "source": [
    "from ipywidgets import Button, Layout, HBox"
   ]
  },
  {
   "cell_type": "code",
   "execution_count": 12,
   "metadata": {},
   "outputs": [],
   "source": [
    "\n",
    "\n",
    "class TestButton(Button):\n",
    "    def __init__(self, *args, **kwargs):\n",
    "        self._plot_area = Button(description=\"Plot Area\",\n",
    "                   layout=Layout(width='auto', grid_area='plot_area'))\n",
    "        self._plot_area2 = Button(description=\"Plot Area2\",\n",
    "                   layout=Layout(width='auto', grid_area='plot_area2'))\n",
    "        \n",
    "        super().__init__(children=[self._plot_area, self._plot_area2], **kwargs)"
   ]
  },
  {
   "cell_type": "code",
   "execution_count": null,
   "metadata": {},
   "outputs": [],
   "source": [
    "TestButton()"
   ]
  },
  {
   "cell_type": "code",
   "execution_count": null,
   "metadata": {},
   "outputs": [],
   "source": []
  }
 ],
 "metadata": {
  "kernelspec": {
   "display_name": "Python 3",
   "language": "python",
   "name": "python3"
  },
  "language_info": {
   "codemirror_mode": {
    "name": "ipython",
    "version": 3
   },
   "file_extension": ".py",
   "mimetype": "text/x-python",
   "name": "python",
   "nbconvert_exporter": "python",
   "pygments_lexer": "ipython3",
   "version": "3.7.3"
  }
 },
 "nbformat": 4,
 "nbformat_minor": 2
}
