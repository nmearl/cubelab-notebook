{
 "cells": [
  {
   "cell_type": "code",
   "execution_count": null,
   "metadata": {},
   "outputs": [],
   "source": [
    "from cubelab_notebook.app import Application\n",
    "from IPython.display import display"
   ]
  },
  {
   "cell_type": "code",
   "execution_count": null,
   "metadata": {
    "scrolled": false
   },
   "outputs": [],
   "source": [
    "app = Application()\n",
    "display(app) # 'tests/data/adv.fits'"
   ]
  },
  {
   "cell_type": "code",
   "execution_count": null,
   "metadata": {},
   "outputs": [],
   "source": [
    "# from spectral_cube import SpectralCube\n",
    "# from astropy.utils import data\n",
    "\n",
    "# fn = data.get_pkg_data_filename('tests/data/adv.fits', 'spectral_cube')\n",
    "# cube = SpectralCube.read(fn) #\"/Users/nearl/Downloads/FLAMES_Haro11_L6_cube_bjames.fits\") \n",
    "# spectrum = cube.mean(axis=(1,2)) \n",
    "\n",
    "# print(list(spectrum.data))"
   ]
  },
  {
   "cell_type": "code",
   "execution_count": null,
   "metadata": {},
   "outputs": [],
   "source": [
    "# import matplotlib.pyplot as plt\n",
    "# %matplotlib notebook"
   ]
  },
  {
   "cell_type": "code",
   "execution_count": null,
   "metadata": {},
   "outputs": [],
   "source": [
    "# f, ax = plt.subplots()\n",
    "\n",
    "# ax.plot(spectrum.spectral_axis.value, spectrum.data)"
   ]
  },
  {
   "cell_type": "code",
   "execution_count": null,
   "metadata": {},
   "outputs": [],
   "source": [
    "# from astropy.io import fits\n",
    "# from spectral_cube import SpectralCube\n",
    "# from astropy.wcs import WCS\n",
    "\n",
    "# with fits.open(\"/Users/nearl/Downloads/manga-7495-12704-LOGCUBE.fits\") as hdulist:\n",
    "#     print(hdulist.info())\n",
    "#     spectral_cube = SpectralCube(data=hdulist[1].data, wcs=WCS(hdulist[1].header))\n",
    "    \n",
    "# spectral_cube.mean(axis=(1, 2))"
   ]
  },
  {
   "cell_type": "code",
   "execution_count": null,
   "metadata": {},
   "outputs": [],
   "source": []
  }
 ],
 "metadata": {
  "kernelspec": {
   "display_name": "Python 3",
   "language": "python",
   "name": "python3"
  },
  "language_info": {
   "codemirror_mode": {
    "name": "ipython",
    "version": 3
   },
   "file_extension": ".py",
   "mimetype": "text/x-python",
   "name": "python",
   "nbconvert_exporter": "python",
   "pygments_lexer": "ipython3",
   "version": "3.7.3"
  }
 },
 "nbformat": 4,
 "nbformat_minor": 2
}
