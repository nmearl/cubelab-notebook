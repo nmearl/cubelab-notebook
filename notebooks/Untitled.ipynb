{
 "cells": [
  {
   "cell_type": "code",
   "execution_count": 1,
   "metadata": {},
   "outputs": [],
   "source": [
    "from cubelab_notebook.app import Application\n",
    "from IPython.display import display"
   ]
  },
  {
   "cell_type": "code",
   "execution_count": 2,
   "metadata": {
    "scrolled": false
   },
   "outputs": [
    {
     "data": {
      "application/vnd.jupyter.widget-view+json": {
       "model_id": "691f2e6eb9874464aeab2a15796983bb",
       "version_major": 2,
       "version_minor": 0
      },
      "text/plain": [
       "Application(children=(MenuBar(children=(Text(value='/Users/nearl/Downloads/manga-7495-12704-LOGCUBE.fits', des…"
      ]
     },
     "metadata": {},
     "output_type": "display_data"
    },
    {
     "name": "stdout",
     "output_type": "stream",
     "text": [
      "BUTTON CLICKED\n",
      "UPDATING SIDE BAR\n",
      "UPDATING\n",
      "SETTING SLICE INDEX\n",
      "UPDATING SLICE INDEX\n",
      "SETTING SLICE INDEX\n",
      "UPDATING SLICE INDEX\n",
      "SETTING SLICE INDEX\n",
      "UPDATING SLICE INDEX\n",
      "SETTING SLICE INDEX\n",
      "UPDATING SLICE INDEX\n",
      "SETTING SLICE INDEX\n",
      "UPDATING SLICE INDEX\n",
      "SETTING SLICE INDEX\n",
      "UPDATING SLICE INDEX\n",
      "SETTING SLICE INDEX\n",
      "UPDATING SLICE INDEX\n",
      "SETTING SLICE INDEX\n",
      "UPDATING SLICE INDEX\n",
      "SETTING SLICE INDEX\n",
      "UPDATING SLICE INDEX\n",
      "SETTING SLICE INDEX\n",
      "UPDATING SLICE INDEX\n",
      "SETTING SLICE INDEX\n",
      "UPDATING SLICE INDEX\n",
      "SETTING SLICE INDEX\n",
      "UPDATING SLICE INDEX\n",
      "SETTING SLICE INDEX\n",
      "UPDATING SLICE INDEX\n",
      "SETTING SLICE INDEX\n",
      "UPDATING SLICE INDEX\n",
      "SETTING SLICE INDEX\n",
      "UPDATING SLICE INDEX\n",
      "SETTING SLICE INDEX\n",
      "UPDATING SLICE INDEX\n",
      "SETTING SLICE INDEX\n",
      "UPDATING SLICE INDEX\n",
      "SETTING SLICE INDEX\n",
      "UPDATING SLICE INDEX\n",
      "SETTING SLICE INDEX\n",
      "UPDATING SLICE INDEX\n",
      "SETTING SLICE INDEX\n",
      "UPDATING SLICE INDEX\n",
      "SETTING SLICE INDEX\n",
      "UPDATING SLICE INDEX\n",
      "SETTING SLICE INDEX\n",
      "UPDATING SLICE INDEX\n",
      "SETTING SLICE INDEX\n",
      "UPDATING SLICE INDEX\n",
      "SETTING SLICE INDEX\n",
      "UPDATING SLICE INDEX\n",
      "SETTING SLICE INDEX\n",
      "UPDATING SLICE INDEX\n",
      "SETTING SLICE INDEX\n",
      "UPDATING SLICE INDEX\n",
      "SETTING SLICE INDEX\n",
      "UPDATING SLICE INDEX\n",
      "SETTING SLICE INDEX\n",
      "UPDATING SLICE INDEX\n",
      "SETTING SLICE INDEX\n",
      "UPDATING SLICE INDEX\n",
      "SETTING SLICE INDEX\n",
      "UPDATING SLICE INDEX\n",
      "SETTING SLICE INDEX\n",
      "UPDATING SLICE INDEX\n",
      "SETTING SLICE INDEX\n",
      "UPDATING SLICE INDEX\n",
      "SETTING SLICE INDEX\n",
      "UPDATING SLICE INDEX\n",
      "SETTING SLICE INDEX\n",
      "UPDATING SLICE INDEX\n",
      "SETTING SLICE INDEX\n",
      "UPDATING SLICE INDEX\n",
      "SETTING SLICE INDEX\n",
      "UPDATING SLICE INDEX\n",
      "SETTING SLICE INDEX\n",
      "UPDATING SLICE INDEX\n",
      "SETTING SLICE INDEX\n",
      "UPDATING SLICE INDEX\n",
      "SETTING SLICE INDEX\n",
      "UPDATING SLICE INDEX\n",
      "SETTING SLICE INDEX\n",
      "UPDATING SLICE INDEX\n",
      "SETTING SLICE INDEX\n",
      "UPDATING SLICE INDEX\n",
      "SETTING SLICE INDEX\n",
      "UPDATING SLICE INDEX\n",
      "SETTING SLICE INDEX\n",
      "UPDATING SLICE INDEX\n",
      "SETTING SLICE INDEX\n",
      "UPDATING SLICE INDEX\n",
      "SETTING SLICE INDEX\n",
      "UPDATING SLICE INDEX\n",
      "SETTING SLICE INDEX\n",
      "UPDATING SLICE INDEX\n",
      "SETTING SLICE INDEX\n",
      "UPDATING SLICE INDEX\n",
      "SETTING SLICE INDEX\n",
      "UPDATING SLICE INDEX\n",
      "SETTING SLICE INDEX\n",
      "UPDATING SLICE INDEX\n",
      "SETTING SLICE INDEX\n",
      "UPDATING SLICE INDEX\n",
      "SETTING SLICE INDEX\n",
      "UPDATING SLICE INDEX\n",
      "SETTING SLICE INDEX\n",
      "UPDATING SLICE INDEX\n",
      "SETTING SLICE INDEX\n",
      "UPDATING SLICE INDEX\n",
      "SETTING SLICE INDEX\n",
      "UPDATING SLICE INDEX\n",
      "SETTING SLICE INDEX\n",
      "UPDATING SLICE INDEX\n",
      "SETTING SLICE INDEX\n",
      "UPDATING SLICE INDEX\n",
      "SETTING SLICE INDEX\n",
      "UPDATING SLICE INDEX\n",
      "SETTING SLICE INDEX\n",
      "UPDATING SLICE INDEX\n",
      "SETTING SLICE INDEX\n",
      "UPDATING SLICE INDEX\n",
      "SETTING SLICE INDEX\n",
      "UPDATING SLICE INDEX\n",
      "SETTING SLICE INDEX\n",
      "UPDATING SLICE INDEX\n",
      "SETTING SLICE INDEX\n",
      "UPDATING SLICE INDEX\n",
      "SETTING SLICE INDEX\n",
      "UPDATING SLICE INDEX\n",
      "SETTING SLICE INDEX\n",
      "UPDATING SLICE INDEX\n",
      "SETTING SLICE INDEX\n",
      "UPDATING SLICE INDEX\n",
      "SETTING SLICE INDEX\n",
      "UPDATING SLICE INDEX\n",
      "SETTING SLICE INDEX\n",
      "UPDATING SLICE INDEX\n",
      "SETTING SLICE INDEX\n",
      "UPDATING SLICE INDEX\n",
      "SETTING SLICE INDEX\n",
      "UPDATING SLICE INDEX\n",
      "SETTING SLICE INDEX\n",
      "UPDATING SLICE INDEX\n",
      "SETTING SLICE INDEX\n",
      "UPDATING SLICE INDEX\n"
     ]
    }
   ],
   "source": [
    "app = Application()\n",
    "display(app) # 'tests/data/adv.fits'"
   ]
  },
  {
   "cell_type": "code",
   "execution_count": 3,
   "metadata": {},
   "outputs": [],
   "source": [
    "# from spectral_cube import SpectralCube\n",
    "# from astropy.utils import data\n",
    "\n",
    "# fn = data.get_pkg_data_filename('tests/data/adv.fits', 'spectral_cube')\n",
    "# cube = SpectralCube.read(fn) #\"/Users/nearl/Downloads/FLAMES_Haro11_L6_cube_bjames.fits\") \n",
    "# spectrum = cube.mean(axis=(1,2)) \n",
    "\n",
    "# print(list(spectrum.data))"
   ]
  },
  {
   "cell_type": "code",
   "execution_count": 4,
   "metadata": {},
   "outputs": [],
   "source": [
    "# import matplotlib.pyplot as plt\n",
    "# %matplotlib notebook"
   ]
  },
  {
   "cell_type": "code",
   "execution_count": 5,
   "metadata": {},
   "outputs": [],
   "source": [
    "# f, ax = plt.subplots()\n",
    "\n",
    "# ax.plot(spectrum.spectral_axis.value, spectrum.data)"
   ]
  },
  {
   "cell_type": "code",
   "execution_count": 6,
   "metadata": {},
   "outputs": [
    {
     "name": "stdout",
     "output_type": "stream",
     "text": [
      "Filename: /Users/nearl/Downloads/manga-7495-12704-LOGCUBE.fits\n",
      "No.    Name      Ver    Type      Cards   Dimensions   Format\n",
      "  0  PRIMARY       1 PrimaryHDU      73   ()      \n",
      "  1  FLUX          1 ImageHDU        99   (72, 72, 4563)   float32   \n",
      "  2  IVAR          1 ImageHDU        17   (72, 72, 4563)   float32   \n",
      "  3  MASK          1 ImageHDU        17   (72, 72, 4563)   int32   \n",
      "  4  WAVE          1 ImageHDU         9   (4563,)   float64   \n",
      "  5  SPECRES       1 ImageHDU         9   (4563,)   float64   \n",
      "  6  SPECRESD      1 ImageHDU         9   (4563,)   float64   \n",
      "  7  OBSINFO       1 BinTableHDU    144   12R x 63C   [25A, 17A, 5A, J, I, 9A, E, E, E, E, E, E, J, J, I, J, E, 12A, J, 8A, E, E, E, E, E, E, E, E, E, E, E, E, E, E, E, E, E, E, E, 13A, E, E, E, E, D, D, D, D, E, E, J, J, J, E, E, E, E, J, J, E, E, E, E]   \n",
      "  8  GIMG          1 ImageHDU        28   (72, 72)   float32   \n",
      "  9  RIMG          1 ImageHDU        28   (72, 72)   float32   \n",
      " 10  IIMG          1 ImageHDU        28   (72, 72)   float32   \n",
      " 11  ZIMG          1 ImageHDU        28   (72, 72)   float32   \n",
      " 12  GPSF          1 ImageHDU        28   (72, 72)   float32   \n",
      " 13  RPSF          1 ImageHDU        28   (72, 72)   float32   \n",
      " 14  IPSF          1 ImageHDU        28   (72, 72)   float32   \n",
      " 15  ZPSF          1 ImageHDU        28   (72, 72)   float32   \n",
      "None\n"
     ]
    },
    {
     "name": "stderr",
     "output_type": "stream",
     "text": [
      "WARNING: PossiblySlowWarning: This function (<function BaseSpectralCube.mean at 0x11d2638c8>) requires loading the entire cube into memory and may therefore be slow. [spectral_cube.utils]\n"
     ]
    },
    {
     "data": {
      "text/latex": [
       "$[0.058690049,~0.059987575,~0.072794572,~\\dots,~0.057199571,~0.068022847,~0] \\; \\mathrm{}$"
      ],
      "text/plain": [
       "<OneDSpectrum [0.05869005,0.05998757,0.07279457,...,0.05719957,0.06802285,\n",
       "               0.        ]>"
      ]
     },
     "execution_count": 6,
     "metadata": {},
     "output_type": "execute_result"
    }
   ],
   "source": [
    "from astropy.io import fits\n",
    "from spectral_cube import SpectralCube\n",
    "from astropy.wcs import WCS\n",
    "\n",
    "with fits.open(\"/Users/nearl/Downloads/manga-7495-12704-LOGCUBE.fits\") as hdulist:\n",
    "    print(hdulist.info())\n",
    "    spectral_cube = SpectralCube(data=hdulist[1].data, wcs=WCS(hdulist[1].header))\n",
    "    \n",
    "spectral_cube.mean(axis=(1, 2))"
   ]
  },
  {
   "cell_type": "code",
   "execution_count": null,
   "metadata": {},
   "outputs": [],
   "source": []
  }
 ],
 "metadata": {
  "kernelspec": {
   "display_name": "Python 3",
   "language": "python",
   "name": "python3"
  },
  "language_info": {
   "codemirror_mode": {
    "name": "ipython",
    "version": 3
   },
   "file_extension": ".py",
   "mimetype": "text/x-python",
   "name": "python",
   "nbconvert_exporter": "python",
   "pygments_lexer": "ipython3",
   "version": "3.7.3"
  }
 },
 "nbformat": 4,
 "nbformat_minor": 2
}
